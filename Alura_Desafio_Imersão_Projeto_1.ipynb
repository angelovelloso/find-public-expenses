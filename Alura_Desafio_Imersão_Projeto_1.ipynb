{
  "cells": [
    {
      "cell_type": "markdown",
      "metadata": {
        "id": "view-in-github",
        "colab_type": "text"
      },
      "source": [
        "<a href=\"https://colab.research.google.com/github/angelovelloso/find-public-expenses/blob/main/Alura_Desafio_Imers%C3%A3o_Projeto_1.ipynb\" target=\"_parent\"><img src=\"https://colab.research.google.com/assets/colab-badge.svg\" alt=\"Open In Colab\"/></a>"
      ]
    },
    {
      "cell_type": "markdown",
      "metadata": {
        "id": "q2R7MxNADv4X"
      },
      "source": [
        "# Projeto: Identificar, sumarizar e classificar futuras despesas públicas"
      ]
    },
    {
      "cell_type": "markdown",
      "metadata": {
        "id": "vbXIyDI1D7JQ"
      },
      "source": [
        "## 1. Objetivo\n"
      ]
    },
    {
      "cell_type": "markdown",
      "metadata": {
        "id": "CH7mkaNvD3Ad"
      },
      "source": [
        "Como servidor do Governo do Estado de Rondônia e trabalhando diretamente na extração e organização dos dados relacionados às despesas, conseguimos ter uma visão bastante profunda e detalhada sobre os gastos públicos comprometidos ou incorridos utilizando tecnologias e metodologias de Engenharia de Dados.\n",
        "\n",
        "Isso se dá porque há uma adesão total ao Sistema Financeiro adotado na gestão do ciclo orçamentário, que envolve a definição dos limites de crédito orçamentário e passa pelo Empenho, Liquidação e Pagamento.\n",
        "\n",
        "O principal gargalo está em identificar ou gerenciar o ciclo de licitação e contratação, uma vez que esses processos acontecem em diversas unidades descentralizadamente e não são gerenciadas ou imputadas em nenhum sistema de informação que dê suporte ao processo e sirva de fonte da informação.\n",
        "\n",
        "Mapear iniciativas de aquisições públicas antes que se tornem compromissos na fase de Empenho interessa à administração especialmente em um contexto de frustração de receitas e necessidade de limitação de empenho e movimentação financeira.\n",
        "\n",
        "Este projeto olha para essa necessidade e surge a partir do desafio promovido pela Alura na Imersão Inteligência Artificial 2ª Edição e propõe o uso da poderosa tecnologia da API do **Gemini**, a IA Generativa do Google.\n",
        "\n",
        "Neste contexto **três objetivos** serão perseguidos:\n",
        "* Identificar e sistematizar as novas iniciativas de aquisição pública;\n",
        "* Sumarizar o que está a Administração Pública pretende adquirir;\n",
        "* Classificar de forma útil as futuras despesas."
      ]
    },
    {
      "cell_type": "markdown",
      "metadata": {
        "id": "03ZD20JUE0XG"
      },
      "source": [
        "## 2. Abordagem"
      ]
    },
    {
      "cell_type": "markdown",
      "metadata": {
        "id": "U9gyMBIfE246"
      },
      "source": [
        "Para atingir os objetivos delineados, a abordagem proposta passa por:\n",
        "1. Monitorar a publicação do Diário Oficial do Estado de Rondônia;\n",
        "2. A cada nova edição, utilizar a API do **Gemini** para analisar o documento e **identificar** novas iniciativas de aquisição pública que estejam sendo divulgadas, **sistematizando** e **estruturando** a informação de forma útil;\n",
        "3. Considerando que estes documentos (Editais, Atas, Termos de Referência) apresentam um grande volume de informação e detalhes, a API do **Gemini** será responsável por também **sumarizar** os documentos e **extrair** dados úteis para descrever de forma objetivo o que a Administração Pública pretende adquirir;\n",
        "4. Ao final, a partir dos dados sumarizados obtidos e, visando direcionar um suposto revisor de despesas, a expectativa é que cada objeto seja **classificado** de forma pré-estabelecida e para o qual serão adotadas como referência as categorias previstas no § 1° do Art. 57 da Lei de Diretrizes Orçamentária do Estado de Rondônia para o exercício de 2024.\n",
        "5. Essas categorias dizem respeito às despesas que devem ser observadas prioritariamente no processo de limitação de despesas.\n",
        "\n",
        "Como referência, segue o texto integral do artigo e as categorias enumeradas:\n",
        "\n",
        "> `Art. 57. Se verificado, ao final de um bimestre, que a realização da receita poderá não comportar o cumprimento das metas de resultado primário ou nominal estabelecidas no Anexo de Metas Fiscais, na forma do artigo 9° da Lei Complementar Federal n° 101, de 2000, os Poderes, o Ministério Público, a Defensoria Pública do Estado e o Tribunal de Contas do Estado promoverão, por ato próprio e nos montantes necessários, nos 30 (trinta) dias subsequentes, limitação de empenho e movimentação financeira, de forma proporcional à queda de arrecadação estimada nas fontes de recursos específicas que`\n",
        "> `suportam as dotações orçamentárias do respectivo Poder ou Órgão.`\n",
        ">\n",
        "> `§ 1° O Poder Executivo de forma proporcional às suas dotações adotará medidas necessárias para o cumprimento do caput, observadas as respectivas fontes de recursos, em especial, nas seguintes despesas:`\n",
        ">\n",
        "> `I - contrapartida para projetos ou atividades vinculadas a recursos oriundos de fontes extraordinárias, como transferências voluntárias, operações de crédito e alienação de ativos, desde que ainda não comprometidos;`\n",
        "> `II - obras em geral, cuja fase ou etapa ainda não esteja iniciada;`\n",
        "> `III - aquisição de combustíveis e derivados, destinada à frota de veículos, exceto dos setores de saúde, educação e segurança pública;`\n",
        "> `IV - dotação para material de consumo e outros serviços de terceiros para as diversas atividades;`\n",
        "> `V - diárias de viagem;`\n",
        "> `VI - festividades, homenagens, recepções e demais eventos da mesma natureza;`\n",
        "> `VII - despesas com publicidade institucional; e`\n",
        "> `VIII - horas-extras.`"
      ]
    },
    {
      "cell_type": "markdown",
      "metadata": {
        "id": "0XI9s-QCEuP0"
      },
      "source": [
        "## 3. Preparação do Ambiente"
      ]
    },
    {
      "cell_type": "code",
      "execution_count": 1,
      "metadata": {
        "colab": {
          "base_uri": "https://localhost:8080/"
        },
        "id": "W1kEhgvqDpf7",
        "outputId": "2b56bc25-4f50-4cee-86ed-c7731ad013b7"
      },
      "outputs": [
        {
          "output_type": "stream",
          "name": "stdout",
          "text": [
            "\u001b[?25l     \u001b[90m━━━━━━━━━━━━━━━━━━━━━━━━━━━━━━━━━━━━━━━━\u001b[0m \u001b[32m0.0/232.6 kB\u001b[0m \u001b[31m?\u001b[0m eta \u001b[36m-:--:--\u001b[0m\r\u001b[2K     \u001b[91m━━━━━━━━━━━━━━━━━━━━━━━━━━━━━\u001b[0m\u001b[91m╸\u001b[0m\u001b[90m━━━━━━━━━━\u001b[0m \u001b[32m174.1/232.6 kB\u001b[0m \u001b[31m5.0 MB/s\u001b[0m eta \u001b[36m0:00:01\u001b[0m\r\u001b[2K     \u001b[90m━━━━━━━━━━━━━━━━━━━━━━━━━━━━━━━━━━━━━━━━\u001b[0m \u001b[32m232.6/232.6 kB\u001b[0m \u001b[31m4.5 MB/s\u001b[0m eta \u001b[36m0:00:00\u001b[0m\n",
            "\u001b[?25h"
          ]
        }
      ],
      "source": [
        "# Instaling Generativa AI Library\n",
        "\n",
        "!pip install -U -q google-generativeai PyPDF2"
      ]
    },
    {
      "cell_type": "code",
      "execution_count": 2,
      "metadata": {
        "id": "MAgbZ-03Fg1R"
      },
      "outputs": [],
      "source": [
        "# Import libraries\n",
        "\n",
        "from google.colab import userdata\n",
        "from pathlib import Path\n",
        "\n",
        "import duckdb\n",
        "import google.generativeai as genai\n",
        "import hashlib\n",
        "import json\n",
        "import os\n",
        "import PyPDF2\n",
        "import requests"
      ]
    },
    {
      "cell_type": "code",
      "execution_count": 3,
      "metadata": {
        "id": "PV9n7BTTJGrl"
      },
      "outputs": [],
      "source": [
        "# Define utility functions\n",
        "\n",
        "def baixar_pdf(url):\n",
        "  response = requests.get(url)\n",
        "  path = Path(url)\n",
        "  new_path = 'data/input/' + path.name\n",
        "  with open(new_path, 'wb') as f:\n",
        "    f.write(response.content)\n",
        "\n",
        "  return f.name\n",
        "\n",
        "def extract_pdf_pages(pathname: str) -> list[str]:\n",
        "    parts = [f\"--- INÍCIO DO PDF ${pathname} ---\"]\n",
        "\n",
        "    with open(pathname, 'rb') as pdf_file:\n",
        "        pdf_reader = PyPDF2.PdfReader(pdf_file)\n",
        "\n",
        "        for page_num in range(len(pdf_reader.pages)):\n",
        "            page = pdf_reader.pages[page_num]\n",
        "            text = page.extract_text()\n",
        "            parts.append(f\"--- PÁGINA {page_num+1} --- \\n {text}\")\n",
        "\n",
        "    return parts"
      ]
    },
    {
      "cell_type": "code",
      "execution_count": 4,
      "metadata": {
        "id": "ay8OPBFRJU4h"
      },
      "outputs": [],
      "source": [
        "# Load and set API Key\n",
        "\n",
        "genai.configure(api_key=userdata.get('GEMINI_API_KEY'))"
      ]
    },
    {
      "cell_type": "code",
      "source": [
        "# Create directories\n",
        "os.mkdir('data')\n",
        "os.mkdir('data/input')\n",
        "os.mkdir('data/output')\n",
        "os.mkdir('data/db')"
      ],
      "metadata": {
        "id": "p3XbqreNKABk"
      },
      "execution_count": 5,
      "outputs": []
    },
    {
      "cell_type": "markdown",
      "metadata": {
        "id": "39D4fpHJShM5"
      },
      "source": [
        "## 4. Donwload e extração do texto do PDF"
      ]
    },
    {
      "cell_type": "code",
      "source": [
        "# Download file\n",
        "\n",
        "arquivo = baixar_pdf(\n",
        "    url='https://diof.ro.gov.br/data/uploads/2024/05/DOE-08.05.2024.pdf'\n",
        ")"
      ],
      "metadata": {
        "id": "KvD7zv0gKS1u"
      },
      "execution_count": 6,
      "outputs": []
    },
    {
      "cell_type": "code",
      "source": [
        "# Extract text to variable\n",
        "\n",
        "pdf_content = extract_pdf_pages(arquivo)"
      ],
      "metadata": {
        "id": "gtS4lbXeK_fP"
      },
      "execution_count": 7,
      "outputs": []
    },
    {
      "cell_type": "markdown",
      "metadata": {
        "id": "JKb1CuAUFZV7"
      },
      "source": [
        "## 5. Definição dos parâmetros do Modelo"
      ]
    },
    {
      "cell_type": "code",
      "execution_count": 8,
      "metadata": {
        "id": "tPEABcBtcpJN"
      },
      "outputs": [],
      "source": [
        "# Set up the model\n",
        "\n",
        "generation_config = {\n",
        "  \"temperature\": 1,\n",
        "  \"top_p\": 0.95,\n",
        "  \"top_k\": 0,\n",
        "  \"max_output_tokens\": 8192,\n",
        "}\n",
        "\n",
        "safety_settings = [\n",
        "  {\n",
        "    \"category\": \"HARM_CATEGORY_HARASSMENT\",\n",
        "    \"threshold\": \"BLOCK_MEDIUM_AND_ABOVE\"\n",
        "  },\n",
        "  {\n",
        "    \"category\": \"HARM_CATEGORY_HATE_SPEECH\",\n",
        "    \"threshold\": \"BLOCK_MEDIUM_AND_ABOVE\"\n",
        "  },\n",
        "  {\n",
        "    \"category\": \"HARM_CATEGORY_SEXUALLY_EXPLICIT\",\n",
        "    \"threshold\": \"BLOCK_MEDIUM_AND_ABOVE\"\n",
        "  },\n",
        "  {\n",
        "    \"category\": \"HARM_CATEGORY_DANGEROUS_CONTENT\",\n",
        "    \"threshold\": \"BLOCK_MEDIUM_AND_ABOVE\"\n",
        "  },\n",
        "]\n",
        "\n",
        "prompt_template = '''\n",
        "    Aja como um revisor responsável por identificar e rever despesas públicas.\n",
        "\n",
        "    Instruções:\n",
        "    1. A partir do Diário Oficial do Estado de Rondônia, identifique as publicações que representam a iniciativa de o poder público fazer novas aquisições de bens, produtos ou serviços.\n",
        "    2. As iniciativas podem ser licitações, pregões, atas, termos de referência ou qualquer espécie de documento que torne público a intenção de a administração pública adquirir bens, produtos ou serviços.\n",
        "    3. Não liste Termos de Homologação referentes à prestação de contas de atendimento de diárias.\n",
        "    4. Para cada publicação identificada, apresente as seguintes informações:\n",
        "        - Página onde a publicação foi identificada;\n",
        "        - Documento ou identificação da publicação;\n",
        "        - Unidade do governo que é responsável pela aquisição;\n",
        "        - Valor total da despesa, se houver;\n",
        "\t    - Fornecedor identificado pelo CNPJ e nome ou razão social, se houver;\n",
        "        - Em uma única frase, uma descrição objetiva do que a Administração Pública pretende adquirir;\n",
        "        - Em uma lista, uma descrição curta de cada item que está sendo adquirido, a quantidade e o valor esperado.\n",
        "    5. Apresente as informações em formato JSON para posterior tratamento dos dados gerados, usando as seguintes chaves:\n",
        "        - Página;\n",
        "        - Documento;\n",
        "        - Unidade;\n",
        "        - Valor_Total;\n",
        "        - Fornecedor;\n",
        "        - Descrição;\n",
        "        - Itens.\n",
        "  '''\n",
        "\n",
        "model = genai.GenerativeModel(model_name=\"gemini-1.5-pro-latest\",\n",
        "                              generation_config=generation_config,\n",
        "                              safety_settings=safety_settings)"
      ]
    },
    {
      "cell_type": "markdown",
      "metadata": {
        "id": "H4aAUdkdRoh4"
      },
      "source": [
        "## 6. Execução das solicitações a API do Gemini\n",
        "\n",
        "Devido ao tamanho do documento, ao número de tokens e especialmente a possibilidade de time out da requisiçao, serão feitas requisições a cada 100 páginas."
      ]
    },
    {
      "cell_type": "code",
      "source": [
        "# Create specific outputdir\n",
        "\n",
        "path = Path(arquivo)\n",
        "output_dir = f'data/output/{path.name.replace(\".pdf\",\"\")}'\n",
        "os.mkdir(output_dir)"
      ],
      "metadata": {
        "id": "yf31KhweMJzT"
      },
      "execution_count": 9,
      "outputs": []
    },
    {
      "cell_type": "code",
      "execution_count": 10,
      "metadata": {
        "colab": {
          "base_uri": "https://localhost:8080/",
          "height": 721
        },
        "id": "dOX2b3OYJRor",
        "outputId": "6a55a860-c799-46e2-c0d0-c24613fa3056"
      },
      "outputs": [
        {
          "output_type": "stream",
          "name": "stdout",
          "text": [
            "Chamando API para bloco 0, página 1 até 11 ...\n",
            "Chamando API para bloco 1, página 9 até 21 ...\n",
            "Chamando API para bloco 2, página 19 até 31 ...\n",
            "Chamando API para bloco 3, página 29 até 41 ...\n",
            "Chamando API para bloco 4, página 39 até 51 ...\n",
            "Bloco 4 sem aquisições.\n",
            "Chamando API para bloco 5, página 49 até 61 ...\n",
            "Chamando API para bloco 6, página 59 até 71 ...\n",
            "Chamando API para bloco 7, página 69 até 81 ...\n",
            "Chamando API para bloco 8, página 79 até 91 ...\n",
            "Chamando API para bloco 9, página 89 até 101 ...\n",
            "Chamando API para bloco 10, página 99 até 111 ...\n",
            "Chamando API para bloco 11, página 109 até 121 ...\n",
            "Chamando API para bloco 12, página 119 até 131 ...\n",
            "Chamando API para bloco 13, página 129 até 141 ...\n",
            "Chamando API para bloco 14, página 139 até 151 ...\n",
            "Chamando API para bloco 15, página 149 até 161 ...\n",
            "Chamando API para bloco 16, página 159 até 171 ...\n",
            "Chamando API para bloco 17, página 169 até 181 ...\n"
          ]
        },
        {
          "output_type": "stream",
          "name": "stderr",
          "text": [
            "WARNING:tornado.access:429 POST /v1beta/models/gemini-1.5-pro-latest:generateContent?%24alt=json%3Benum-encoding%3Dint (127.0.0.1) 739.60ms\n"
          ]
        },
        {
          "output_type": "error",
          "ename": "TooManyRequests",
          "evalue": "429 POST https://generativelanguage.googleapis.com/v1beta/models/gemini-1.5-pro-latest:generateContent?%24alt=json%3Benum-encoding%3Dint: Resource has been exhausted (e.g. check quota).",
          "traceback": [
            "\u001b[0;31m---------------------------------------------------------------------------\u001b[0m",
            "\u001b[0;31mTooManyRequests\u001b[0m                           Traceback (most recent call last)",
            "\u001b[0;32m<ipython-input-10-fc006cafbc98>\u001b[0m in \u001b[0;36m<cell line: 10>\u001b[0;34m()\u001b[0m\n\u001b[1;32m     24\u001b[0m     \u001b[0mprint\u001b[0m\u001b[0;34m(\u001b[0m\u001b[0;34mf'Chamando API para bloco {block}, página {start_page} até {end_page} ...'\u001b[0m\u001b[0;34m)\u001b[0m\u001b[0;34m\u001b[0m\u001b[0;34m\u001b[0m\u001b[0m\n\u001b[1;32m     25\u001b[0m \u001b[0;34m\u001b[0m\u001b[0m\n\u001b[0;32m---> 26\u001b[0;31m     response = model.generate_content(\n\u001b[0m\u001b[1;32m     27\u001b[0m         \u001b[0mprompt_parts\u001b[0m\u001b[0;34m,\u001b[0m\u001b[0;34m\u001b[0m\u001b[0;34m\u001b[0m\u001b[0m\n\u001b[1;32m     28\u001b[0m         request_options={'timeout': 300})\n",
            "\u001b[0;32m/usr/local/lib/python3.10/dist-packages/google/generativeai/generative_models.py\u001b[0m in \u001b[0;36mgenerate_content\u001b[0;34m(self, contents, generation_config, safety_settings, stream, tools, tool_config, request_options)\u001b[0m\n\u001b[1;32m    260\u001b[0m                 \u001b[0;32mreturn\u001b[0m \u001b[0mgeneration_types\u001b[0m\u001b[0;34m.\u001b[0m\u001b[0mGenerateContentResponse\u001b[0m\u001b[0;34m.\u001b[0m\u001b[0mfrom_iterator\u001b[0m\u001b[0;34m(\u001b[0m\u001b[0miterator\u001b[0m\u001b[0;34m)\u001b[0m\u001b[0;34m\u001b[0m\u001b[0;34m\u001b[0m\u001b[0m\n\u001b[1;32m    261\u001b[0m             \u001b[0;32melse\u001b[0m\u001b[0;34m:\u001b[0m\u001b[0;34m\u001b[0m\u001b[0;34m\u001b[0m\u001b[0m\n\u001b[0;32m--> 262\u001b[0;31m                 response = self._client.generate_content(\n\u001b[0m\u001b[1;32m    263\u001b[0m                     \u001b[0mrequest\u001b[0m\u001b[0;34m,\u001b[0m\u001b[0;34m\u001b[0m\u001b[0;34m\u001b[0m\u001b[0m\n\u001b[1;32m    264\u001b[0m                     \u001b[0;34m**\u001b[0m\u001b[0mrequest_options\u001b[0m\u001b[0;34m,\u001b[0m\u001b[0;34m\u001b[0m\u001b[0;34m\u001b[0m\u001b[0m\n",
            "\u001b[0;32m/usr/local/lib/python3.10/dist-packages/google/ai/generativelanguage_v1beta/services/generative_service/client.py\u001b[0m in \u001b[0;36mgenerate_content\u001b[0;34m(self, request, model, contents, retry, timeout, metadata)\u001b[0m\n\u001b[1;32m    789\u001b[0m \u001b[0;34m\u001b[0m\u001b[0m\n\u001b[1;32m    790\u001b[0m         \u001b[0;31m# Send the request.\u001b[0m\u001b[0;34m\u001b[0m\u001b[0;34m\u001b[0m\u001b[0m\n\u001b[0;32m--> 791\u001b[0;31m         response = rpc(\n\u001b[0m\u001b[1;32m    792\u001b[0m             \u001b[0mrequest\u001b[0m\u001b[0;34m,\u001b[0m\u001b[0;34m\u001b[0m\u001b[0;34m\u001b[0m\u001b[0m\n\u001b[1;32m    793\u001b[0m             \u001b[0mretry\u001b[0m\u001b[0;34m=\u001b[0m\u001b[0mretry\u001b[0m\u001b[0;34m,\u001b[0m\u001b[0;34m\u001b[0m\u001b[0;34m\u001b[0m\u001b[0m\n",
            "\u001b[0;32m/usr/local/lib/python3.10/dist-packages/google/api_core/gapic_v1/method.py\u001b[0m in \u001b[0;36m__call__\u001b[0;34m(self, timeout, retry, *args, **kwargs)\u001b[0m\n\u001b[1;32m    111\u001b[0m             \u001b[0mkwargs\u001b[0m\u001b[0;34m[\u001b[0m\u001b[0;34m\"metadata\"\u001b[0m\u001b[0;34m]\u001b[0m \u001b[0;34m=\u001b[0m \u001b[0mmetadata\u001b[0m\u001b[0;34m\u001b[0m\u001b[0;34m\u001b[0m\u001b[0m\n\u001b[1;32m    112\u001b[0m \u001b[0;34m\u001b[0m\u001b[0m\n\u001b[0;32m--> 113\u001b[0;31m         \u001b[0;32mreturn\u001b[0m \u001b[0mwrapped_func\u001b[0m\u001b[0;34m(\u001b[0m\u001b[0;34m*\u001b[0m\u001b[0margs\u001b[0m\u001b[0;34m,\u001b[0m \u001b[0;34m**\u001b[0m\u001b[0mkwargs\u001b[0m\u001b[0;34m)\u001b[0m\u001b[0;34m\u001b[0m\u001b[0;34m\u001b[0m\u001b[0m\n\u001b[0m\u001b[1;32m    114\u001b[0m \u001b[0;34m\u001b[0m\u001b[0m\n\u001b[1;32m    115\u001b[0m \u001b[0;34m\u001b[0m\u001b[0m\n",
            "\u001b[0;32m/usr/local/lib/python3.10/dist-packages/google/api_core/retry.py\u001b[0m in \u001b[0;36mretry_wrapped_func\u001b[0;34m(*args, **kwargs)\u001b[0m\n\u001b[1;32m    347\u001b[0m                 \u001b[0mself\u001b[0m\u001b[0;34m.\u001b[0m\u001b[0m_initial\u001b[0m\u001b[0;34m,\u001b[0m \u001b[0mself\u001b[0m\u001b[0;34m.\u001b[0m\u001b[0m_maximum\u001b[0m\u001b[0;34m,\u001b[0m \u001b[0mmultiplier\u001b[0m\u001b[0;34m=\u001b[0m\u001b[0mself\u001b[0m\u001b[0;34m.\u001b[0m\u001b[0m_multiplier\u001b[0m\u001b[0;34m\u001b[0m\u001b[0;34m\u001b[0m\u001b[0m\n\u001b[1;32m    348\u001b[0m             )\n\u001b[0;32m--> 349\u001b[0;31m             return retry_target(\n\u001b[0m\u001b[1;32m    350\u001b[0m                 \u001b[0mtarget\u001b[0m\u001b[0;34m,\u001b[0m\u001b[0;34m\u001b[0m\u001b[0;34m\u001b[0m\u001b[0m\n\u001b[1;32m    351\u001b[0m                 \u001b[0mself\u001b[0m\u001b[0;34m.\u001b[0m\u001b[0m_predicate\u001b[0m\u001b[0;34m,\u001b[0m\u001b[0;34m\u001b[0m\u001b[0;34m\u001b[0m\u001b[0m\n",
            "\u001b[0;32m/usr/local/lib/python3.10/dist-packages/google/api_core/retry.py\u001b[0m in \u001b[0;36mretry_target\u001b[0;34m(target, predicate, sleep_generator, timeout, on_error, **kwargs)\u001b[0m\n\u001b[1;32m    189\u001b[0m     \u001b[0;32mfor\u001b[0m \u001b[0msleep\u001b[0m \u001b[0;32min\u001b[0m \u001b[0msleep_generator\u001b[0m\u001b[0;34m:\u001b[0m\u001b[0;34m\u001b[0m\u001b[0;34m\u001b[0m\u001b[0m\n\u001b[1;32m    190\u001b[0m         \u001b[0;32mtry\u001b[0m\u001b[0;34m:\u001b[0m\u001b[0;34m\u001b[0m\u001b[0;34m\u001b[0m\u001b[0m\n\u001b[0;32m--> 191\u001b[0;31m             \u001b[0;32mreturn\u001b[0m \u001b[0mtarget\u001b[0m\u001b[0;34m(\u001b[0m\u001b[0;34m)\u001b[0m\u001b[0;34m\u001b[0m\u001b[0;34m\u001b[0m\u001b[0m\n\u001b[0m\u001b[1;32m    192\u001b[0m \u001b[0;34m\u001b[0m\u001b[0m\n\u001b[1;32m    193\u001b[0m         \u001b[0;31m# pylint: disable=broad-except\u001b[0m\u001b[0;34m\u001b[0m\u001b[0;34m\u001b[0m\u001b[0m\n",
            "\u001b[0;32m/usr/local/lib/python3.10/dist-packages/google/api_core/timeout.py\u001b[0m in \u001b[0;36mfunc_with_timeout\u001b[0;34m(*args, **kwargs)\u001b[0m\n\u001b[1;32m    118\u001b[0m                 \u001b[0mkwargs\u001b[0m\u001b[0;34m[\u001b[0m\u001b[0;34m\"timeout\"\u001b[0m\u001b[0;34m]\u001b[0m \u001b[0;34m=\u001b[0m \u001b[0mmax\u001b[0m\u001b[0;34m(\u001b[0m\u001b[0;36m0\u001b[0m\u001b[0;34m,\u001b[0m \u001b[0mself\u001b[0m\u001b[0;34m.\u001b[0m\u001b[0m_timeout\u001b[0m \u001b[0;34m-\u001b[0m \u001b[0mtime_since_first_attempt\u001b[0m\u001b[0;34m)\u001b[0m\u001b[0;34m\u001b[0m\u001b[0;34m\u001b[0m\u001b[0m\n\u001b[1;32m    119\u001b[0m \u001b[0;34m\u001b[0m\u001b[0m\n\u001b[0;32m--> 120\u001b[0;31m             \u001b[0;32mreturn\u001b[0m \u001b[0mfunc\u001b[0m\u001b[0;34m(\u001b[0m\u001b[0;34m*\u001b[0m\u001b[0margs\u001b[0m\u001b[0;34m,\u001b[0m \u001b[0;34m**\u001b[0m\u001b[0mkwargs\u001b[0m\u001b[0;34m)\u001b[0m\u001b[0;34m\u001b[0m\u001b[0;34m\u001b[0m\u001b[0m\n\u001b[0m\u001b[1;32m    121\u001b[0m \u001b[0;34m\u001b[0m\u001b[0m\n\u001b[1;32m    122\u001b[0m         \u001b[0;32mreturn\u001b[0m \u001b[0mfunc_with_timeout\u001b[0m\u001b[0;34m\u001b[0m\u001b[0;34m\u001b[0m\u001b[0m\n",
            "\u001b[0;32m/usr/local/lib/python3.10/dist-packages/google/api_core/grpc_helpers.py\u001b[0m in \u001b[0;36merror_remapped_callable\u001b[0;34m(*args, **kwargs)\u001b[0m\n\u001b[1;32m     70\u001b[0m     \u001b[0;32mdef\u001b[0m \u001b[0merror_remapped_callable\u001b[0m\u001b[0;34m(\u001b[0m\u001b[0;34m*\u001b[0m\u001b[0margs\u001b[0m\u001b[0;34m,\u001b[0m \u001b[0;34m**\u001b[0m\u001b[0mkwargs\u001b[0m\u001b[0;34m)\u001b[0m\u001b[0;34m:\u001b[0m\u001b[0;34m\u001b[0m\u001b[0;34m\u001b[0m\u001b[0m\n\u001b[1;32m     71\u001b[0m         \u001b[0;32mtry\u001b[0m\u001b[0;34m:\u001b[0m\u001b[0;34m\u001b[0m\u001b[0;34m\u001b[0m\u001b[0m\n\u001b[0;32m---> 72\u001b[0;31m             \u001b[0;32mreturn\u001b[0m \u001b[0mcallable_\u001b[0m\u001b[0;34m(\u001b[0m\u001b[0;34m*\u001b[0m\u001b[0margs\u001b[0m\u001b[0;34m,\u001b[0m \u001b[0;34m**\u001b[0m\u001b[0mkwargs\u001b[0m\u001b[0;34m)\u001b[0m\u001b[0;34m\u001b[0m\u001b[0;34m\u001b[0m\u001b[0m\n\u001b[0m\u001b[1;32m     73\u001b[0m         \u001b[0;32mexcept\u001b[0m \u001b[0mgrpc\u001b[0m\u001b[0;34m.\u001b[0m\u001b[0mRpcError\u001b[0m \u001b[0;32mas\u001b[0m \u001b[0mexc\u001b[0m\u001b[0;34m:\u001b[0m\u001b[0;34m\u001b[0m\u001b[0;34m\u001b[0m\u001b[0m\n\u001b[1;32m     74\u001b[0m             \u001b[0;32mraise\u001b[0m \u001b[0mexceptions\u001b[0m\u001b[0;34m.\u001b[0m\u001b[0mfrom_grpc_error\u001b[0m\u001b[0;34m(\u001b[0m\u001b[0mexc\u001b[0m\u001b[0;34m)\u001b[0m \u001b[0;32mfrom\u001b[0m \u001b[0mexc\u001b[0m\u001b[0;34m\u001b[0m\u001b[0;34m\u001b[0m\u001b[0m\n",
            "\u001b[0;32m/usr/local/lib/python3.10/dist-packages/google/ai/generativelanguage_v1beta/services/generative_service/transports/rest.py\u001b[0m in \u001b[0;36m__call__\u001b[0;34m(self, request, retry, timeout, metadata)\u001b[0m\n\u001b[1;32m    844\u001b[0m             \u001b[0;31m# subclass.\u001b[0m\u001b[0;34m\u001b[0m\u001b[0;34m\u001b[0m\u001b[0m\n\u001b[1;32m    845\u001b[0m             \u001b[0;32mif\u001b[0m \u001b[0mresponse\u001b[0m\u001b[0;34m.\u001b[0m\u001b[0mstatus_code\u001b[0m \u001b[0;34m>=\u001b[0m \u001b[0;36m400\u001b[0m\u001b[0;34m:\u001b[0m\u001b[0;34m\u001b[0m\u001b[0;34m\u001b[0m\u001b[0m\n\u001b[0;32m--> 846\u001b[0;31m                 \u001b[0;32mraise\u001b[0m \u001b[0mcore_exceptions\u001b[0m\u001b[0;34m.\u001b[0m\u001b[0mfrom_http_response\u001b[0m\u001b[0;34m(\u001b[0m\u001b[0mresponse\u001b[0m\u001b[0;34m)\u001b[0m\u001b[0;34m\u001b[0m\u001b[0;34m\u001b[0m\u001b[0m\n\u001b[0m\u001b[1;32m    847\u001b[0m \u001b[0;34m\u001b[0m\u001b[0m\n\u001b[1;32m    848\u001b[0m             \u001b[0;31m# Return the response\u001b[0m\u001b[0;34m\u001b[0m\u001b[0;34m\u001b[0m\u001b[0m\n",
            "\u001b[0;31mTooManyRequests\u001b[0m: 429 POST https://generativelanguage.googleapis.com/v1beta/models/gemini-1.5-pro-latest:generateContent?%24alt=json%3Benum-encoding%3Dint: Resource has been exhausted (e.g. check quota)."
          ]
        }
      ],
      "source": [
        "# Execute API to extract structured data\n",
        "\n",
        "chunk_size = 10\n",
        "total_pages = len(pdf_content)\n",
        "chunk_blocks = int(total_pages / chunk_size)\n",
        "\n",
        "if total_pages % chunk_size != 0:\n",
        "  chunk_blocks += 1\n",
        "\n",
        "for block in range(chunk_blocks):\n",
        "\n",
        "    start_page = 1 if block == 0 else (block * chunk_size) - 1 # Add one pages before\n",
        "    end_page = ((block + 1) * chunk_size) + 1 # Add one pages after\n",
        "\n",
        "    if end_page > total_pages:\n",
        "        end_page = total_pages\n",
        "\n",
        "    prompt_parts = [\n",
        "        *pdf_content[0:1],\n",
        "        *pdf_content[start_page:end_page],\n",
        "        prompt_template,\n",
        "    ]\n",
        "\n",
        "    print(f'Chamando API para bloco {block}, página {start_page} até {end_page} ...')\n",
        "\n",
        "    response = model.generate_content(\n",
        "        prompt_parts,\n",
        "        request_options={'timeout': 300})\n",
        "\n",
        "    try:\n",
        "        json_block = response.text.replace('```', '').replace('json', '')\n",
        "        dados_aquisicoes = json.loads(json_block)\n",
        "\n",
        "        arquivo = output_dir + f'/aquisicoes_block_{block}.json'\n",
        "\n",
        "        with open(arquivo, 'w') as f:\n",
        "            json.dump(dados_aquisicoes, f, indent=4)\n",
        "\n",
        "    except ValueError:\n",
        "        print(f'Bloco {block} sem aquisições.')\n",
        "        continue"
      ]
    },
    {
      "cell_type": "markdown",
      "source": [
        "## 7. Criação e estruturação do banco de dados"
      ],
      "metadata": {
        "id": "x_JOHMpqRO40"
      }
    },
    {
      "cell_type": "code",
      "execution_count": 19,
      "metadata": {
        "id": "wHWuRnJq8SJ2"
      },
      "outputs": [],
      "source": [
        "con = duckdb.connect('data/db/database.duckdb')\n",
        "\n",
        "con.sql(\n",
        "    '''\n",
        "    create or replace table aquisicoes (\n",
        "        pagina varchar,\n",
        "        documento varchar,\n",
        "        unidade varchar,\n",
        "        valor_total_str varchar,\n",
        "        fornecedor varchar,\n",
        "        descricao varchar,\n",
        "        arquivo varchar\n",
        "    )\n",
        "    '''\n",
        ")"
      ]
    },
    {
      "cell_type": "code",
      "execution_count": 20,
      "metadata": {
        "colab": {
          "base_uri": "https://localhost:8080/"
        },
        "id": "ZaPy-sdBD6C4",
        "outputId": "19411451-43d8-4764-e8e5-60e2b2f633c8"
      },
      "outputs": [
        {
          "output_type": "execute_result",
          "data": {
            "text/plain": [
              "┌─────────────────┬─────────────┬─────────┬─────────┬─────────┬─────────┐\n",
              "│   column_name   │ column_type │  null   │   key   │ default │  extra  │\n",
              "│     varchar     │   varchar   │ varchar │ varchar │ varchar │ varchar │\n",
              "├─────────────────┼─────────────┼─────────┼─────────┼─────────┼─────────┤\n",
              "│ pagina          │ VARCHAR     │ YES     │ NULL    │ NULL    │ NULL    │\n",
              "│ documento       │ VARCHAR     │ YES     │ NULL    │ NULL    │ NULL    │\n",
              "│ unidade         │ VARCHAR     │ YES     │ NULL    │ NULL    │ NULL    │\n",
              "│ valor_total_str │ VARCHAR     │ YES     │ NULL    │ NULL    │ NULL    │\n",
              "│ fornecedor      │ VARCHAR     │ YES     │ NULL    │ NULL    │ NULL    │\n",
              "│ descricao       │ VARCHAR     │ YES     │ NULL    │ NULL    │ NULL    │\n",
              "│ arquivo         │ VARCHAR     │ YES     │ NULL    │ NULL    │ NULL    │\n",
              "└─────────────────┴─────────────┴─────────┴─────────┴─────────┴─────────┘"
            ]
          },
          "metadata": {},
          "execution_count": 20
        }
      ],
      "source": [
        "con.sql('describe aquisicoes')"
      ]
    },
    {
      "cell_type": "code",
      "execution_count": 21,
      "metadata": {
        "colab": {
          "base_uri": "https://localhost:8080/"
        },
        "id": "mQ2PsqUtBtjJ",
        "outputId": "489a66b8-94f4-4555-dc35-22d2ed4331e6"
      },
      "outputs": [
        {
          "output_type": "stream",
          "name": "stdout",
          "text": [
            "Lendo aquisicoes_block_10.json ...\n",
            "Lendo aquisicoes_block_0.json ...\n",
            "Lendo aquisicoes_block_2.json ...\n",
            "Lendo aquisicoes_block_15.json ...\n",
            "Lendo aquisicoes_block_13.json ...\n",
            "Lendo aquisicoes_block_11.json ...\n",
            "Lendo aquisicoes_block_7.json ...\n",
            "Lendo aquisicoes_block_6.json ...\n",
            "Lendo aquisicoes_block_1.json ...\n",
            "Lendo aquisicoes_block_8.json ...\n",
            "Lendo aquisicoes_block_16.json ...\n",
            "Lendo aquisicoes_block_9.json ...\n",
            "Lendo aquisicoes_block_3.json ...\n",
            "Lendo aquisicoes_block_12.json ...\n",
            "Lendo aquisicoes_block_14.json ...\n",
            "Lendo aquisicoes_block_5.json ...\n"
          ]
        }
      ],
      "source": [
        "for json_file in os.listdir(output_dir):\n",
        "\n",
        "    print(f'Lendo {json_file} ...')\n",
        "\n",
        "    con.sql(f'''\n",
        "        insert into aquisicoes\n",
        "        select\n",
        "            Página,\n",
        "            Documento,\n",
        "            Unidade,\n",
        "            Valor_total,\n",
        "            Fornecedor,\n",
        "            Descrição,\n",
        "            '{json_file}'\n",
        "        from read_json('{output_dir}/{json_file}') f\n",
        "    ''')"
      ]
    },
    {
      "cell_type": "code",
      "source": [
        "con.sql(f\"\"\"\n",
        "        select\n",
        "            pagina,\n",
        "            documento,\n",
        "            descricao\n",
        "        from aquisicoes\n",
        "\"\"\")"
      ],
      "metadata": {
        "colab": {
          "base_uri": "https://localhost:8080/"
        },
        "id": "boToRUVbY4Cg",
        "outputId": "1ba3d645-8fc0-4af0-e726-10dc1f12b854"
      },
      "execution_count": 27,
      "outputs": [
        {
          "output_type": "execute_result",
          "data": {
            "text/plain": [
              "┌─────────┬──────────────────────┬─────────────────────────────────────────────────────────────────────────────────────┐\n",
              "│ pagina  │      documento       │                                      descricao                                      │\n",
              "│ varchar │       varchar        │                                       varchar                                       │\n",
              "├─────────┼──────────────────────┼─────────────────────────────────────────────────────────────────────────────────────┤\n",
              "│ 99-101  │ ATA DE REGISTRO DE…  │ Registro de preços para futura e eventual aquisição de TABLET AVANÇADO.             │\n",
              "│ 103-110 │ ATA DE REGISTRO DE…  │ Registro de preço para futura e eventual aquisição de materiais de consumo (exped…  │\n",
              "│ 2       │ LEI COMPLEMENTAR N…  │ Criação de novos cargos no quadro administrativo do Ministério Público do Estado …  │\n",
              "│ 28      │ EXTRATO 1-EXTRATO:…  │ Aquisição de serviços de segurança para a Secretaria de Estado da Saúde.            │\n",
              "│ 29      │ EXTRATO 1-EXTRATO:…  │ Prorrogação de contrato para gestão e manutenção com a TICKET GESTÃO EM MANUTENÇÃ…  │\n",
              "│ 29      │ EXTRATO 1-EXTRATO:…  │ Contratação de serviços para participação na feira APAS SHOW 2024.                  │\n",
              "│ 29      │ EXTRATO 1-EXTRATO:…  │ Contratação de serviços de qualiﬁcação proﬁssional para o curso \"2° Seminário Nac…  │\n",
              "│ 29      │ EXTRATO 1-EXTRATO:…  │ Contratação da Federação Brasileira de Coaching Integral Sistêmico - FEBRACIS par…  │\n",
              "│ 30      │ EXTRATO 1-EXTRATO:…  │ Prorrogação de contrato com a NP TECNOLOGIA E GESTÃO DE DADOS LTDA.                 │\n",
              "│ 30      │ EXTRATO 1-EXTRATO:…  │ Locação de estruturas para a 11ª Rondônia Rural Show.                               │\n",
              "│ ·       │         ·            │                           ·                                                         │\n",
              "│ ·       │         ·            │                           ·                                                         │\n",
              "│ ·       │         ·            │                           ·                                                         │\n",
              "│ 119     │ Registro de Preços   │ Aquisição de diversos materiais de limpeza, escritório e informática por meio de …  │\n",
              "│ 120     │ Registro de Preços   │ Aquisição de diversos materiais de escritório por meio de Registro de Preços.       │\n",
              "│ 121     │ Registro de Preços   │ Aquisição de diversos materiais de escritório por meio de Registro de Preços.       │\n",
              "│ 121     │ Registro de Preços   │ Aquisição de grampeador de mesa por meio de Registro de Preços.                     │\n",
              "│ 122     │ Registro de Preços   │ Aquisição de envelopes de papel por meio de Registro de Preços.                     │\n",
              "│ 122     │ Registro de Preços   │ Aquisição de calculadoras de mesa por meio de Registro de Preços.                   │\n",
              "│ 122     │ Registro de Preços   │ Aquisição de adesivo instantâneo por meio de Registro de Preços.                    │\n",
              "│ 148     │ PORTARIA CONJUNTA …  │ A Secretaria de Estado de Finanças designa servidores para compor a Equipe de Tes…  │\n",
              "│ 150     │ Portaria nº 449 de…  │ A Secretaria de Segurança, Defesa e Cidadania nomeia servidores para fiscalizar a…  │\n",
              "│ 60      │ AVISO DE MANIFESTA…  │ A SEGEP torna público a futura e eventual Contratação de Empresa especializada em…  │\n",
              "├─────────┴──────────────────────┴─────────────────────────────────────────────────────────────────────────────────────┤\n",
              "│ 129 rows (20 shown)                                                                                        3 columns │\n",
              "└──────────────────────────────────────────────────────────────────────────────────────────────────────────────────────┘"
            ]
          },
          "metadata": {},
          "execution_count": 27
        }
      ]
    }
  ],
  "metadata": {
    "colab": {
      "collapsed_sections": [
        "vbXIyDI1D7JQ",
        "03ZD20JUE0XG"
      ],
      "provenance": [],
      "authorship_tag": "ABX9TyMdm2R9N0x595bhRPXxaNpz",
      "include_colab_link": true
    },
    "kernelspec": {
      "display_name": "Python 3",
      "name": "python3"
    },
    "language_info": {
      "name": "python"
    }
  },
  "nbformat": 4,
  "nbformat_minor": 0
}